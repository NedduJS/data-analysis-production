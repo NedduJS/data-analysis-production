{
  "nbformat": 4,
  "nbformat_minor": 0,
  "metadata": {
    "colab": {
      "name": "AnálisisProducción.ipynb",
      "provenance": [],
      "collapsed_sections": [],
      "authorship_tag": "ABX9TyOpgC+tNQzXkpnukFSg2PCW",
      "include_colab_link": true
    },
    "kernelspec": {
      "name": "python3",
      "display_name": "Python 3"
    },
    "language_info": {
      "name": "python"
    }
  },
  "cells": [
    {
      "cell_type": "markdown",
      "metadata": {
        "id": "view-in-github",
        "colab_type": "text"
      },
      "source": [
        "<a href=\"https://colab.research.google.com/github/nestoredduardo/data-analysis-production/blob/main/An%C3%A1lisisProducci%C3%B3n.ipynb\" target=\"_parent\"><img src=\"https://colab.research.google.com/assets/colab-badge.svg\" alt=\"Open In Colab\"/></a>"
      ]
    },
    {
      "cell_type": "markdown",
      "metadata": {
        "id": "TfhmXVQGeHYZ"
      },
      "source": [
        "# Introduction\n",
        "\n",
        "In this notebook, I am going to analyze the data of a production company and making extrapolations about what is going on at the company.\n",
        "\n",
        "For that purpose will be using tools such as Python, Pandas and Matplotlib"
      ]
    },
    {
      "cell_type": "code",
      "metadata": {
        "id": "n7HhABUNypMp",
        "colab": {
          "base_uri": "https://localhost:8080/"
        },
        "outputId": "dfbc42a9-956a-44ae-89d6-ac9caf298e2d"
      },
      "source": [
        "import pandas as pd\n",
        "\n",
        "print('Libraries installed')"
      ],
      "execution_count": 3,
      "outputs": [
        {
          "output_type": "stream",
          "text": [
            "Libraries installed\n"
          ],
          "name": "stdout"
        }
      ]
    },
    {
      "cell_type": "markdown",
      "metadata": {
        "id": "cmTgIaQ_iL3a"
      },
      "source": [
        "## Retrieving data from Github repository\n",
        "URL = 'https://raw.githubusercontent.com/nestoredduardo/data-analysis-production/main/production-data.xlsx'"
      ]
    },
    {
      "cell_type": "code",
      "metadata": {
        "colab": {
          "base_uri": "https://localhost:8080/",
          "height": 1000
        },
        "id": "Q1VrMAJ-3ekX",
        "outputId": "e1ec3326-5ba0-4a05-df7c-a49bb4669bdc"
      },
      "source": [
        "URL = 'https://raw.githubusercontent.com/nestoredduardo/data-analysis-production/main/production-data.xlsx'\n",
        "df = pd.read_excel(URL)\n",
        "df"
      ],
      "execution_count": 4,
      "outputs": [
        {
          "output_type": "execute_result",
          "data": {
            "text/html": [
              "<div>\n",
              "<style scoped>\n",
              "    .dataframe tbody tr th:only-of-type {\n",
              "        vertical-align: middle;\n",
              "    }\n",
              "\n",
              "    .dataframe tbody tr th {\n",
              "        vertical-align: top;\n",
              "    }\n",
              "\n",
              "    .dataframe thead th {\n",
              "        text-align: right;\n",
              "    }\n",
              "</style>\n",
              "<table border=\"1\" class=\"dataframe\">\n",
              "  <thead>\n",
              "    <tr style=\"text-align: right;\">\n",
              "      <th></th>\n",
              "      <th>Real Production</th>\n",
              "      <th>Accumulated Real Production</th>\n",
              "      <th>Scheduled Production</th>\n",
              "      <th>Accumulated Scheduled Production</th>\n",
              "      <th>Anual Capacity</th>\n",
              "      <th>Weekly Capacity</th>\n",
              "      <th>Waste Kg</th>\n",
              "    </tr>\n",
              "  </thead>\n",
              "  <tbody>\n",
              "    <tr>\n",
              "      <th>0</th>\n",
              "      <td>0.000000</td>\n",
              "      <td>NaN</td>\n",
              "      <td>0.0</td>\n",
              "      <td>NaN</td>\n",
              "      <td>8000000.0</td>\n",
              "      <td>0.000000e+00</td>\n",
              "      <td>0.000000</td>\n",
              "    </tr>\n",
              "    <tr>\n",
              "      <th>1</th>\n",
              "      <td>0.000000</td>\n",
              "      <td>NaN</td>\n",
              "      <td>0.0</td>\n",
              "      <td>NaN</td>\n",
              "      <td>8000000.0</td>\n",
              "      <td>0.000000e+00</td>\n",
              "      <td>0.000000</td>\n",
              "    </tr>\n",
              "    <tr>\n",
              "      <th>2</th>\n",
              "      <td>0.000000</td>\n",
              "      <td>NaN</td>\n",
              "      <td>0.0</td>\n",
              "      <td>NaN</td>\n",
              "      <td>8000000.0</td>\n",
              "      <td>0.000000e+00</td>\n",
              "      <td>0.000000</td>\n",
              "    </tr>\n",
              "    <tr>\n",
              "      <th>3</th>\n",
              "      <td>0.000000</td>\n",
              "      <td>NaN</td>\n",
              "      <td>0.0</td>\n",
              "      <td>NaN</td>\n",
              "      <td>8000000.0</td>\n",
              "      <td>0.000000e+00</td>\n",
              "      <td>0.000000</td>\n",
              "    </tr>\n",
              "    <tr>\n",
              "      <th>4</th>\n",
              "      <td>0.000000</td>\n",
              "      <td>NaN</td>\n",
              "      <td>0.0</td>\n",
              "      <td>NaN</td>\n",
              "      <td>8000000.0</td>\n",
              "      <td>0.000000e+00</td>\n",
              "      <td>0.000000</td>\n",
              "    </tr>\n",
              "    <tr>\n",
              "      <th>5</th>\n",
              "      <td>3143.998885</td>\n",
              "      <td>3.143999e+03</td>\n",
              "      <td>50000.0</td>\n",
              "      <td>50000.0</td>\n",
              "      <td>8000000.0</td>\n",
              "      <td>2.285714e+05</td>\n",
              "      <td>1476.051755</td>\n",
              "    </tr>\n",
              "    <tr>\n",
              "      <th>6</th>\n",
              "      <td>39187.998451</td>\n",
              "      <td>4.233200e+04</td>\n",
              "      <td>50000.0</td>\n",
              "      <td>100000.0</td>\n",
              "      <td>8000000.0</td>\n",
              "      <td>4.571429e+05</td>\n",
              "      <td>12043.176994</td>\n",
              "    </tr>\n",
              "    <tr>\n",
              "      <th>7</th>\n",
              "      <td>79031.993186</td>\n",
              "      <td>1.213640e+05</td>\n",
              "      <td>50000.0</td>\n",
              "      <td>150000.0</td>\n",
              "      <td>8000000.0</td>\n",
              "      <td>6.857143e+05</td>\n",
              "      <td>22994.727933</td>\n",
              "    </tr>\n",
              "    <tr>\n",
              "      <th>8</th>\n",
              "      <td>75291.763790</td>\n",
              "      <td>1.966558e+05</td>\n",
              "      <td>50000.0</td>\n",
              "      <td>200000.0</td>\n",
              "      <td>8000000.0</td>\n",
              "      <td>9.142857e+05</td>\n",
              "      <td>21967.632568</td>\n",
              "    </tr>\n",
              "    <tr>\n",
              "      <th>9</th>\n",
              "      <td>84920.551343</td>\n",
              "      <td>2.815763e+05</td>\n",
              "      <td>75000.0</td>\n",
              "      <td>275000.0</td>\n",
              "      <td>8000000.0</td>\n",
              "      <td>1.142857e+06</td>\n",
              "      <td>24178.608274</td>\n",
              "    </tr>\n",
              "    <tr>\n",
              "      <th>10</th>\n",
              "      <td>47955.631876</td>\n",
              "      <td>3.295319e+05</td>\n",
              "      <td>70000.0</td>\n",
              "      <td>345000.0</td>\n",
              "      <td>8000000.0</td>\n",
              "      <td>1.371429e+06</td>\n",
              "      <td>13220.558650</td>\n",
              "    </tr>\n",
              "    <tr>\n",
              "      <th>11</th>\n",
              "      <td>62563.592107</td>\n",
              "      <td>3.920955e+05</td>\n",
              "      <td>100000.0</td>\n",
              "      <td>445000.0</td>\n",
              "      <td>8000000.0</td>\n",
              "      <td>1.600000e+06</td>\n",
              "      <td>16539.520367</td>\n",
              "    </tr>\n",
              "    <tr>\n",
              "      <th>12</th>\n",
              "      <td>105140.289902</td>\n",
              "      <td>4.972358e+05</td>\n",
              "      <td>100000.0</td>\n",
              "      <td>545000.0</td>\n",
              "      <td>8000000.0</td>\n",
              "      <td>1.828571e+06</td>\n",
              "      <td>28197.996054</td>\n",
              "    </tr>\n",
              "    <tr>\n",
              "      <th>13</th>\n",
              "      <td>72826.025744</td>\n",
              "      <td>5.700618e+05</td>\n",
              "      <td>120000.0</td>\n",
              "      <td>665000.0</td>\n",
              "      <td>8000000.0</td>\n",
              "      <td>2.057143e+06</td>\n",
              "      <td>19556.359249</td>\n",
              "    </tr>\n",
              "    <tr>\n",
              "      <th>14</th>\n",
              "      <td>122931.964920</td>\n",
              "      <td>6.929938e+05</td>\n",
              "      <td>120000.0</td>\n",
              "      <td>785000.0</td>\n",
              "      <td>8000000.0</td>\n",
              "      <td>2.285714e+06</td>\n",
              "      <td>32484.885875</td>\n",
              "    </tr>\n",
              "    <tr>\n",
              "      <th>15</th>\n",
              "      <td>148423.494607</td>\n",
              "      <td>8.414173e+05</td>\n",
              "      <td>200000.0</td>\n",
              "      <td>985000.0</td>\n",
              "      <td>8000000.0</td>\n",
              "      <td>2.514286e+06</td>\n",
              "      <td>61207.081022</td>\n",
              "    </tr>\n",
              "    <tr>\n",
              "      <th>16</th>\n",
              "      <td>240079.970886</td>\n",
              "      <td>1.081497e+06</td>\n",
              "      <td>250000.0</td>\n",
              "      <td>1235000.0</td>\n",
              "      <td>8000000.0</td>\n",
              "      <td>2.742857e+06</td>\n",
              "      <td>84987.092625</td>\n",
              "    </tr>\n",
              "    <tr>\n",
              "      <th>17</th>\n",
              "      <td>258644.008721</td>\n",
              "      <td>1.340141e+06</td>\n",
              "      <td>250000.0</td>\n",
              "      <td>1485000.0</td>\n",
              "      <td>8000000.0</td>\n",
              "      <td>2.971429e+06</td>\n",
              "      <td>74271.353806</td>\n",
              "    </tr>\n",
              "    <tr>\n",
              "      <th>18</th>\n",
              "      <td>293687.604696</td>\n",
              "      <td>1.633829e+06</td>\n",
              "      <td>250000.0</td>\n",
              "      <td>1735000.0</td>\n",
              "      <td>8000000.0</td>\n",
              "      <td>3.200000e+06</td>\n",
              "      <td>83719.087363</td>\n",
              "    </tr>\n",
              "    <tr>\n",
              "      <th>19</th>\n",
              "      <td>226627.346816</td>\n",
              "      <td>1.860456e+06</td>\n",
              "      <td>280480.0</td>\n",
              "      <td>2015480.0</td>\n",
              "      <td>8000000.0</td>\n",
              "      <td>3.428571e+06</td>\n",
              "      <td>70226.524540</td>\n",
              "    </tr>\n",
              "    <tr>\n",
              "      <th>20</th>\n",
              "      <td>245468.786281</td>\n",
              "      <td>2.105925e+06</td>\n",
              "      <td>280480.0</td>\n",
              "      <td>2295960.0</td>\n",
              "      <td>8000000.0</td>\n",
              "      <td>3.657143e+06</td>\n",
              "      <td>75072.929602</td>\n",
              "    </tr>\n",
              "    <tr>\n",
              "      <th>21</th>\n",
              "      <td>245634.932112</td>\n",
              "      <td>2.351560e+06</td>\n",
              "      <td>280480.0</td>\n",
              "      <td>2576440.0</td>\n",
              "      <td>8000000.0</td>\n",
              "      <td>3.885714e+06</td>\n",
              "      <td>77722.832623</td>\n",
              "    </tr>\n",
              "    <tr>\n",
              "      <th>22</th>\n",
              "      <td>223203.769392</td>\n",
              "      <td>2.574764e+06</td>\n",
              "      <td>280480.0</td>\n",
              "      <td>2856920.0</td>\n",
              "      <td>8000000.0</td>\n",
              "      <td>4.114286e+06</td>\n",
              "      <td>70069.366144</td>\n",
              "    </tr>\n",
              "    <tr>\n",
              "      <th>23</th>\n",
              "      <td>238763.616272</td>\n",
              "      <td>2.813527e+06</td>\n",
              "      <td>300000.0</td>\n",
              "      <td>3156920.0</td>\n",
              "      <td>8000000.0</td>\n",
              "      <td>4.342857e+06</td>\n",
              "      <td>89477.348834</td>\n",
              "    </tr>\n",
              "    <tr>\n",
              "      <th>24</th>\n",
              "      <td>244222.222577</td>\n",
              "      <td>3.057750e+06</td>\n",
              "      <td>277072.0</td>\n",
              "      <td>3433992.0</td>\n",
              "      <td>8000000.0</td>\n",
              "      <td>4.571429e+06</td>\n",
              "      <td>80993.951166</td>\n",
              "    </tr>\n",
              "    <tr>\n",
              "      <th>25</th>\n",
              "      <td>186964.513200</td>\n",
              "      <td>3.244714e+06</td>\n",
              "      <td>249684.0</td>\n",
              "      <td>3683676.0</td>\n",
              "      <td>8000000.0</td>\n",
              "      <td>4.800000e+06</td>\n",
              "      <td>57300.327358</td>\n",
              "    </tr>\n",
              "    <tr>\n",
              "      <th>26</th>\n",
              "      <td>226053.002411</td>\n",
              "      <td>3.470767e+06</td>\n",
              "      <td>230000.0</td>\n",
              "      <td>3913676.0</td>\n",
              "      <td>8000000.0</td>\n",
              "      <td>5.028571e+06</td>\n",
              "      <td>67837.794611</td>\n",
              "    </tr>\n",
              "    <tr>\n",
              "      <th>27</th>\n",
              "      <td>173878.713200</td>\n",
              "      <td>3.644646e+06</td>\n",
              "      <td>250000.0</td>\n",
              "      <td>4163676.0</td>\n",
              "      <td>8000000.0</td>\n",
              "      <td>5.257143e+06</td>\n",
              "      <td>53254.085821</td>\n",
              "    </tr>\n",
              "    <tr>\n",
              "      <th>28</th>\n",
              "      <td>174742.495200</td>\n",
              "      <td>3.819388e+06</td>\n",
              "      <td>250000.0</td>\n",
              "      <td>4413676.0</td>\n",
              "      <td>8000000.0</td>\n",
              "      <td>5.485714e+06</td>\n",
              "      <td>54527.862379</td>\n",
              "    </tr>\n",
              "    <tr>\n",
              "      <th>29</th>\n",
              "      <td>200705.625000</td>\n",
              "      <td>4.020094e+06</td>\n",
              "      <td>250000.0</td>\n",
              "      <td>4663676.0</td>\n",
              "      <td>8000000.0</td>\n",
              "      <td>5.714286e+06</td>\n",
              "      <td>60101.556564</td>\n",
              "    </tr>\n",
              "    <tr>\n",
              "      <th>30</th>\n",
              "      <td>171901.550000</td>\n",
              "      <td>4.191995e+06</td>\n",
              "      <td>250000.0</td>\n",
              "      <td>4913676.0</td>\n",
              "      <td>8000000.0</td>\n",
              "      <td>5.942857e+06</td>\n",
              "      <td>53433.136261</td>\n",
              "    </tr>\n",
              "    <tr>\n",
              "      <th>31</th>\n",
              "      <td>174491.778000</td>\n",
              "      <td>4.366487e+06</td>\n",
              "      <td>250000.0</td>\n",
              "      <td>5163676.0</td>\n",
              "      <td>8000000.0</td>\n",
              "      <td>6.171429e+06</td>\n",
              "      <td>59456.021047</td>\n",
              "    </tr>\n",
              "    <tr>\n",
              "      <th>32</th>\n",
              "      <td>159718.469000</td>\n",
              "      <td>4.526206e+06</td>\n",
              "      <td>250000.0</td>\n",
              "      <td>5413676.0</td>\n",
              "      <td>8000000.0</td>\n",
              "      <td>6.400000e+06</td>\n",
              "      <td>55491.182527</td>\n",
              "    </tr>\n",
              "    <tr>\n",
              "      <th>33</th>\n",
              "      <td>92283.001000</td>\n",
              "      <td>4.618489e+06</td>\n",
              "      <td>152445.0</td>\n",
              "      <td>5566121.0</td>\n",
              "      <td>8000000.0</td>\n",
              "      <td>6.628571e+06</td>\n",
              "      <td>48519.402821</td>\n",
              "    </tr>\n",
              "    <tr>\n",
              "      <th>34</th>\n",
              "      <td>104144.750000</td>\n",
              "      <td>4.722633e+06</td>\n",
              "      <td>111000.0</td>\n",
              "      <td>5677121.0</td>\n",
              "      <td>8000000.0</td>\n",
              "      <td>6.857143e+06</td>\n",
              "      <td>46404.072394</td>\n",
              "    </tr>\n",
              "    <tr>\n",
              "      <th>35</th>\n",
              "      <td>151626.132000</td>\n",
              "      <td>4.874260e+06</td>\n",
              "      <td>102302.0</td>\n",
              "      <td>5779423.0</td>\n",
              "      <td>8000000.0</td>\n",
              "      <td>7.085714e+06</td>\n",
              "      <td>54668.699787</td>\n",
              "    </tr>\n",
              "    <tr>\n",
              "      <th>36</th>\n",
              "      <td>99545.000000</td>\n",
              "      <td>4.973805e+06</td>\n",
              "      <td>96000.0</td>\n",
              "      <td>5875423.0</td>\n",
              "      <td>8000000.0</td>\n",
              "      <td>7.314286e+06</td>\n",
              "      <td>25751.956818</td>\n",
              "    </tr>\n",
              "    <tr>\n",
              "      <th>37</th>\n",
              "      <td>118128.000000</td>\n",
              "      <td>5.091933e+06</td>\n",
              "      <td>87296.0</td>\n",
              "      <td>5962719.0</td>\n",
              "      <td>8000000.0</td>\n",
              "      <td>7.542857e+06</td>\n",
              "      <td>28739.811566</td>\n",
              "    </tr>\n",
              "    <tr>\n",
              "      <th>38</th>\n",
              "      <td>119740.000000</td>\n",
              "      <td>5.211673e+06</td>\n",
              "      <td>87296.0</td>\n",
              "      <td>6050015.0</td>\n",
              "      <td>8000000.0</td>\n",
              "      <td>7.771429e+06</td>\n",
              "      <td>32153.460083</td>\n",
              "    </tr>\n",
              "    <tr>\n",
              "      <th>39</th>\n",
              "      <td>69264.000000</td>\n",
              "      <td>5.280937e+06</td>\n",
              "      <td>87296.0</td>\n",
              "      <td>6137311.0</td>\n",
              "      <td>8000000.0</td>\n",
              "      <td>8.000000e+06</td>\n",
              "      <td>19369.181212</td>\n",
              "    </tr>\n",
              "    <tr>\n",
              "      <th>40</th>\n",
              "      <td>0.000000</td>\n",
              "      <td>5.280937e+06</td>\n",
              "      <td>NaN</td>\n",
              "      <td>NaN</td>\n",
              "      <td>NaN</td>\n",
              "      <td>NaN</td>\n",
              "      <td>0.000000</td>\n",
              "    </tr>\n",
              "    <tr>\n",
              "      <th>41</th>\n",
              "      <td>0.000000</td>\n",
              "      <td>5.280937e+06</td>\n",
              "      <td>NaN</td>\n",
              "      <td>NaN</td>\n",
              "      <td>NaN</td>\n",
              "      <td>NaN</td>\n",
              "      <td>0.000000</td>\n",
              "    </tr>\n",
              "    <tr>\n",
              "      <th>42</th>\n",
              "      <td>0.000000</td>\n",
              "      <td>5.280937e+06</td>\n",
              "      <td>NaN</td>\n",
              "      <td>NaN</td>\n",
              "      <td>NaN</td>\n",
              "      <td>NaN</td>\n",
              "      <td>0.000000</td>\n",
              "    </tr>\n",
              "    <tr>\n",
              "      <th>43</th>\n",
              "      <td>0.000000</td>\n",
              "      <td>5.280937e+06</td>\n",
              "      <td>NaN</td>\n",
              "      <td>NaN</td>\n",
              "      <td>NaN</td>\n",
              "      <td>NaN</td>\n",
              "      <td>0.000000</td>\n",
              "    </tr>\n",
              "    <tr>\n",
              "      <th>44</th>\n",
              "      <td>0.000000</td>\n",
              "      <td>5.280937e+06</td>\n",
              "      <td>NaN</td>\n",
              "      <td>NaN</td>\n",
              "      <td>NaN</td>\n",
              "      <td>NaN</td>\n",
              "      <td>0.000000</td>\n",
              "    </tr>\n",
              "    <tr>\n",
              "      <th>45</th>\n",
              "      <td>0.000000</td>\n",
              "      <td>5.280937e+06</td>\n",
              "      <td>NaN</td>\n",
              "      <td>NaN</td>\n",
              "      <td>NaN</td>\n",
              "      <td>NaN</td>\n",
              "      <td>0.000000</td>\n",
              "    </tr>\n",
              "    <tr>\n",
              "      <th>46</th>\n",
              "      <td>0.000000</td>\n",
              "      <td>5.280937e+06</td>\n",
              "      <td>NaN</td>\n",
              "      <td>NaN</td>\n",
              "      <td>NaN</td>\n",
              "      <td>NaN</td>\n",
              "      <td>0.000000</td>\n",
              "    </tr>\n",
              "    <tr>\n",
              "      <th>47</th>\n",
              "      <td>0.000000</td>\n",
              "      <td>5.280937e+06</td>\n",
              "      <td>NaN</td>\n",
              "      <td>NaN</td>\n",
              "      <td>NaN</td>\n",
              "      <td>NaN</td>\n",
              "      <td>0.000000</td>\n",
              "    </tr>\n",
              "    <tr>\n",
              "      <th>48</th>\n",
              "      <td>0.000000</td>\n",
              "      <td>5.280937e+06</td>\n",
              "      <td>NaN</td>\n",
              "      <td>NaN</td>\n",
              "      <td>NaN</td>\n",
              "      <td>NaN</td>\n",
              "      <td>0.000000</td>\n",
              "    </tr>\n",
              "    <tr>\n",
              "      <th>49</th>\n",
              "      <td>0.000000</td>\n",
              "      <td>5.280937e+06</td>\n",
              "      <td>NaN</td>\n",
              "      <td>NaN</td>\n",
              "      <td>NaN</td>\n",
              "      <td>NaN</td>\n",
              "      <td>0.000000</td>\n",
              "    </tr>\n",
              "    <tr>\n",
              "      <th>50</th>\n",
              "      <td>0.000000</td>\n",
              "      <td>5.280937e+06</td>\n",
              "      <td>NaN</td>\n",
              "      <td>NaN</td>\n",
              "      <td>NaN</td>\n",
              "      <td>NaN</td>\n",
              "      <td>0.000000</td>\n",
              "    </tr>\n",
              "    <tr>\n",
              "      <th>51</th>\n",
              "      <td>0.000000</td>\n",
              "      <td>5.280937e+06</td>\n",
              "      <td>NaN</td>\n",
              "      <td>NaN</td>\n",
              "      <td>NaN</td>\n",
              "      <td>NaN</td>\n",
              "      <td>0.000000</td>\n",
              "    </tr>\n",
              "  </tbody>\n",
              "</table>\n",
              "</div>"
            ],
            "text/plain": [
              "    Real Production  Accumulated Real Production  ...  Weekly Capacity      Waste Kg\n",
              "0          0.000000                          NaN  ...     0.000000e+00      0.000000\n",
              "1          0.000000                          NaN  ...     0.000000e+00      0.000000\n",
              "2          0.000000                          NaN  ...     0.000000e+00      0.000000\n",
              "3          0.000000                          NaN  ...     0.000000e+00      0.000000\n",
              "4          0.000000                          NaN  ...     0.000000e+00      0.000000\n",
              "5       3143.998885                 3.143999e+03  ...     2.285714e+05   1476.051755\n",
              "6      39187.998451                 4.233200e+04  ...     4.571429e+05  12043.176994\n",
              "7      79031.993186                 1.213640e+05  ...     6.857143e+05  22994.727933\n",
              "8      75291.763790                 1.966558e+05  ...     9.142857e+05  21967.632568\n",
              "9      84920.551343                 2.815763e+05  ...     1.142857e+06  24178.608274\n",
              "10     47955.631876                 3.295319e+05  ...     1.371429e+06  13220.558650\n",
              "11     62563.592107                 3.920955e+05  ...     1.600000e+06  16539.520367\n",
              "12    105140.289902                 4.972358e+05  ...     1.828571e+06  28197.996054\n",
              "13     72826.025744                 5.700618e+05  ...     2.057143e+06  19556.359249\n",
              "14    122931.964920                 6.929938e+05  ...     2.285714e+06  32484.885875\n",
              "15    148423.494607                 8.414173e+05  ...     2.514286e+06  61207.081022\n",
              "16    240079.970886                 1.081497e+06  ...     2.742857e+06  84987.092625\n",
              "17    258644.008721                 1.340141e+06  ...     2.971429e+06  74271.353806\n",
              "18    293687.604696                 1.633829e+06  ...     3.200000e+06  83719.087363\n",
              "19    226627.346816                 1.860456e+06  ...     3.428571e+06  70226.524540\n",
              "20    245468.786281                 2.105925e+06  ...     3.657143e+06  75072.929602\n",
              "21    245634.932112                 2.351560e+06  ...     3.885714e+06  77722.832623\n",
              "22    223203.769392                 2.574764e+06  ...     4.114286e+06  70069.366144\n",
              "23    238763.616272                 2.813527e+06  ...     4.342857e+06  89477.348834\n",
              "24    244222.222577                 3.057750e+06  ...     4.571429e+06  80993.951166\n",
              "25    186964.513200                 3.244714e+06  ...     4.800000e+06  57300.327358\n",
              "26    226053.002411                 3.470767e+06  ...     5.028571e+06  67837.794611\n",
              "27    173878.713200                 3.644646e+06  ...     5.257143e+06  53254.085821\n",
              "28    174742.495200                 3.819388e+06  ...     5.485714e+06  54527.862379\n",
              "29    200705.625000                 4.020094e+06  ...     5.714286e+06  60101.556564\n",
              "30    171901.550000                 4.191995e+06  ...     5.942857e+06  53433.136261\n",
              "31    174491.778000                 4.366487e+06  ...     6.171429e+06  59456.021047\n",
              "32    159718.469000                 4.526206e+06  ...     6.400000e+06  55491.182527\n",
              "33     92283.001000                 4.618489e+06  ...     6.628571e+06  48519.402821\n",
              "34    104144.750000                 4.722633e+06  ...     6.857143e+06  46404.072394\n",
              "35    151626.132000                 4.874260e+06  ...     7.085714e+06  54668.699787\n",
              "36     99545.000000                 4.973805e+06  ...     7.314286e+06  25751.956818\n",
              "37    118128.000000                 5.091933e+06  ...     7.542857e+06  28739.811566\n",
              "38    119740.000000                 5.211673e+06  ...     7.771429e+06  32153.460083\n",
              "39     69264.000000                 5.280937e+06  ...     8.000000e+06  19369.181212\n",
              "40         0.000000                 5.280937e+06  ...              NaN      0.000000\n",
              "41         0.000000                 5.280937e+06  ...              NaN      0.000000\n",
              "42         0.000000                 5.280937e+06  ...              NaN      0.000000\n",
              "43         0.000000                 5.280937e+06  ...              NaN      0.000000\n",
              "44         0.000000                 5.280937e+06  ...              NaN      0.000000\n",
              "45         0.000000                 5.280937e+06  ...              NaN      0.000000\n",
              "46         0.000000                 5.280937e+06  ...              NaN      0.000000\n",
              "47         0.000000                 5.280937e+06  ...              NaN      0.000000\n",
              "48         0.000000                 5.280937e+06  ...              NaN      0.000000\n",
              "49         0.000000                 5.280937e+06  ...              NaN      0.000000\n",
              "50         0.000000                 5.280937e+06  ...              NaN      0.000000\n",
              "51         0.000000                 5.280937e+06  ...              NaN      0.000000\n",
              "\n",
              "[52 rows x 7 columns]"
            ]
          },
          "metadata": {
            "tags": []
          },
          "execution_count": 4
        }
      ]
    },
    {
      "cell_type": "markdown",
      "metadata": {
        "id": "qqygmBQhlIo5"
      },
      "source": [
        "We can see the data has zero and Nan values at the beginning and at the end of the table.\n",
        "Therefore let's work with the period that has data."
      ]
    },
    {
      "cell_type": "markdown",
      "metadata": {
        "id": "2yhWoFed3la1"
      },
      "source": [
        "## Cleaning data"
      ]
    },
    {
      "cell_type": "code",
      "metadata": {
        "id": "vd6doPCkj30m"
      },
      "source": [
        "df = df[(df != 0).all(1)]"
      ],
      "execution_count": 5,
      "outputs": []
    },
    {
      "cell_type": "markdown",
      "metadata": {
        "id": "6tCasruok-aO"
      },
      "source": [
        "## Preparing data for analysis"
      ]
    },
    {
      "cell_type": "markdown",
      "metadata": {
        "id": "_Fm4kpgdnswH"
      },
      "source": [
        "In order to analyse the data we need:\n",
        "\n",
        "\n",
        "\n",
        "1.   Change the units of waste to Lbs, because the production data is given in that unit\n",
        "2.   Calculate the cumulative waste in lbs\n",
        "\n",
        "3.   Add relevant KPIs for the production analysis: \n",
        "\n",
        "*   Efficiency\n",
        "*   Effectiveness\n",
        "*   Usability\n",
        "*   Waste %\n",
        "\n",
        "\n",
        "\n"
      ]
    },
    {
      "cell_type": "markdown",
      "metadata": {
        "id": "tUZBl3_eHtSd"
      },
      "source": [
        "1.   Changing the units of waste to Lbs, because the production data is given in that unit"
      ]
    },
    {
      "cell_type": "code",
      "metadata": {
        "id": "yijLSnroprb-"
      },
      "source": [
        "kg_lbs = 2.2046"
      ],
      "execution_count": 6,
      "outputs": []
    },
    {
      "cell_type": "code",
      "metadata": {
        "id": "jLixe4xjHhsM"
      },
      "source": [
        "df.insert(7,\"Waste Lbs\", df['Waste Kg']*kg_lbs)"
      ],
      "execution_count": 7,
      "outputs": []
    },
    {
      "cell_type": "markdown",
      "metadata": {
        "id": "UB6CnISPHgOt"
      },
      "source": [
        "2. Calculate the cumulative waste in lbs"
      ]
    },
    {
      "cell_type": "code",
      "metadata": {
        "colab": {
          "base_uri": "https://localhost:8080/",
          "height": 223
        },
        "id": "f8C3eCIFImiJ",
        "outputId": "246c659f-64be-488a-944a-3eaf2ec6d9ee"
      },
      "source": [
        "df.insert(8,'Accumulated Waste Lbs', df['Waste Lbs'].cumsum())\n",
        "df.head()"
      ],
      "execution_count": 8,
      "outputs": [
        {
          "output_type": "execute_result",
          "data": {
            "text/html": [
              "<div>\n",
              "<style scoped>\n",
              "    .dataframe tbody tr th:only-of-type {\n",
              "        vertical-align: middle;\n",
              "    }\n",
              "\n",
              "    .dataframe tbody tr th {\n",
              "        vertical-align: top;\n",
              "    }\n",
              "\n",
              "    .dataframe thead th {\n",
              "        text-align: right;\n",
              "    }\n",
              "</style>\n",
              "<table border=\"1\" class=\"dataframe\">\n",
              "  <thead>\n",
              "    <tr style=\"text-align: right;\">\n",
              "      <th></th>\n",
              "      <th>Real Production</th>\n",
              "      <th>Accumulated Real Production</th>\n",
              "      <th>Scheduled Production</th>\n",
              "      <th>Accumulated Scheduled Production</th>\n",
              "      <th>Anual Capacity</th>\n",
              "      <th>Weekly Capacity</th>\n",
              "      <th>Waste Kg</th>\n",
              "      <th>Waste Lbs</th>\n",
              "      <th>Accumulated Waste Lbs</th>\n",
              "    </tr>\n",
              "  </thead>\n",
              "  <tbody>\n",
              "    <tr>\n",
              "      <th>5</th>\n",
              "      <td>3143.998885</td>\n",
              "      <td>3143.998885</td>\n",
              "      <td>50000.0</td>\n",
              "      <td>50000.0</td>\n",
              "      <td>8000000.0</td>\n",
              "      <td>2.285714e+05</td>\n",
              "      <td>1476.051755</td>\n",
              "      <td>3254.10370</td>\n",
              "      <td>3254.10370</td>\n",
              "    </tr>\n",
              "    <tr>\n",
              "      <th>6</th>\n",
              "      <td>39187.998451</td>\n",
              "      <td>42331.997336</td>\n",
              "      <td>50000.0</td>\n",
              "      <td>100000.0</td>\n",
              "      <td>8000000.0</td>\n",
              "      <td>4.571429e+05</td>\n",
              "      <td>12043.176994</td>\n",
              "      <td>26550.38800</td>\n",
              "      <td>29804.49170</td>\n",
              "    </tr>\n",
              "    <tr>\n",
              "      <th>7</th>\n",
              "      <td>79031.993186</td>\n",
              "      <td>121363.990523</td>\n",
              "      <td>50000.0</td>\n",
              "      <td>150000.0</td>\n",
              "      <td>8000000.0</td>\n",
              "      <td>6.857143e+05</td>\n",
              "      <td>22994.727933</td>\n",
              "      <td>50694.17720</td>\n",
              "      <td>80498.66890</td>\n",
              "    </tr>\n",
              "    <tr>\n",
              "      <th>8</th>\n",
              "      <td>75291.763790</td>\n",
              "      <td>196655.754313</td>\n",
              "      <td>50000.0</td>\n",
              "      <td>200000.0</td>\n",
              "      <td>8000000.0</td>\n",
              "      <td>9.142857e+05</td>\n",
              "      <td>21967.632568</td>\n",
              "      <td>48429.84276</td>\n",
              "      <td>128928.51166</td>\n",
              "    </tr>\n",
              "    <tr>\n",
              "      <th>9</th>\n",
              "      <td>84920.551343</td>\n",
              "      <td>281576.305656</td>\n",
              "      <td>75000.0</td>\n",
              "      <td>275000.0</td>\n",
              "      <td>8000000.0</td>\n",
              "      <td>1.142857e+06</td>\n",
              "      <td>24178.608274</td>\n",
              "      <td>53304.15980</td>\n",
              "      <td>182232.67146</td>\n",
              "    </tr>\n",
              "  </tbody>\n",
              "</table>\n",
              "</div>"
            ],
            "text/plain": [
              "   Real Production  ...  Accumulated Waste Lbs\n",
              "5      3143.998885  ...             3254.10370\n",
              "6     39187.998451  ...            29804.49170\n",
              "7     79031.993186  ...            80498.66890\n",
              "8     75291.763790  ...           128928.51166\n",
              "9     84920.551343  ...           182232.67146\n",
              "\n",
              "[5 rows x 9 columns]"
            ]
          },
          "metadata": {
            "tags": []
          },
          "execution_count": 8
        }
      ]
    },
    {
      "cell_type": "markdown",
      "metadata": {
        "id": "kGXR08VYJ_2W"
      },
      "source": [
        "3. Add relevant KPIs for the production analysis(%):\n",
        "\n",
        "\n",
        "*   Effectiveness = Accumulated Real Production / Accumulated Scheduled Production\n",
        "*   Efficiency = Accumulated Real Production / Weekly Capacity\n",
        "*   Usability = (Accumulated Real Production + Accumulated Waste Lbs) / Weekly Capacity    \n",
        "*   Waste % = Accumulated Waste Lbs / Accumulated Scheduled Production\n",
        "\n",
        "\n",
        "\n",
        "\n",
        "\n",
        "\n",
        "\n"
      ]
    },
    {
      "cell_type": "code",
      "metadata": {
        "id": "ai_2tLtDX7W1"
      },
      "source": [
        "df.insert(9,'Effectiveness', df['Accumulated Real Production'] / df['Accumulated Scheduled Production'] *100)\n",
        "df.insert(10,'Efficiency', df['Accumulated Real Production'] / df['Weekly Capacity'] * 100)\n",
        "df.insert(11,'Usability', (df['Accumulated Real Production'] + df['Accumulated Waste Lbs'])/df['Weekly Capacity'] *100)\n",
        "df.insert(12,'Waste %', df['Accumulated Waste Lbs'] / df['Accumulated Scheduled Production'] *100)"
      ],
      "execution_count": 9,
      "outputs": []
    },
    {
      "cell_type": "code",
      "metadata": {
        "id": "lW59SWxcX7h7",
        "colab": {
          "base_uri": "https://localhost:8080/",
          "height": 261
        },
        "outputId": "f4f71368-677f-44ff-9a5d-aa6e5d172c92"
      },
      "source": [
        "df.head()"
      ],
      "execution_count": 10,
      "outputs": [
        {
          "output_type": "execute_result",
          "data": {
            "text/html": [
              "<div>\n",
              "<style scoped>\n",
              "    .dataframe tbody tr th:only-of-type {\n",
              "        vertical-align: middle;\n",
              "    }\n",
              "\n",
              "    .dataframe tbody tr th {\n",
              "        vertical-align: top;\n",
              "    }\n",
              "\n",
              "    .dataframe thead th {\n",
              "        text-align: right;\n",
              "    }\n",
              "</style>\n",
              "<table border=\"1\" class=\"dataframe\">\n",
              "  <thead>\n",
              "    <tr style=\"text-align: right;\">\n",
              "      <th></th>\n",
              "      <th>Real Production</th>\n",
              "      <th>Accumulated Real Production</th>\n",
              "      <th>Scheduled Production</th>\n",
              "      <th>Accumulated Scheduled Production</th>\n",
              "      <th>Anual Capacity</th>\n",
              "      <th>Weekly Capacity</th>\n",
              "      <th>Waste Kg</th>\n",
              "      <th>Waste Lbs</th>\n",
              "      <th>Accumulated Waste Lbs</th>\n",
              "      <th>Effectiveness</th>\n",
              "      <th>Efficiency</th>\n",
              "      <th>Usability</th>\n",
              "      <th>Waste %</th>\n",
              "    </tr>\n",
              "  </thead>\n",
              "  <tbody>\n",
              "    <tr>\n",
              "      <th>5</th>\n",
              "      <td>3143.998885</td>\n",
              "      <td>3143.998885</td>\n",
              "      <td>50000.0</td>\n",
              "      <td>50000.0</td>\n",
              "      <td>8000000.0</td>\n",
              "      <td>2.285714e+05</td>\n",
              "      <td>1476.051755</td>\n",
              "      <td>3254.10370</td>\n",
              "      <td>3254.10370</td>\n",
              "      <td>6.287998</td>\n",
              "      <td>1.375500</td>\n",
              "      <td>2.799170</td>\n",
              "      <td>6.508207</td>\n",
              "    </tr>\n",
              "    <tr>\n",
              "      <th>6</th>\n",
              "      <td>39187.998451</td>\n",
              "      <td>42331.997336</td>\n",
              "      <td>50000.0</td>\n",
              "      <td>100000.0</td>\n",
              "      <td>8000000.0</td>\n",
              "      <td>4.571429e+05</td>\n",
              "      <td>12043.176994</td>\n",
              "      <td>26550.38800</td>\n",
              "      <td>29804.49170</td>\n",
              "      <td>42.331997</td>\n",
              "      <td>9.260124</td>\n",
              "      <td>15.779857</td>\n",
              "      <td>29.804492</td>\n",
              "    </tr>\n",
              "    <tr>\n",
              "      <th>7</th>\n",
              "      <td>79031.993186</td>\n",
              "      <td>121363.990523</td>\n",
              "      <td>50000.0</td>\n",
              "      <td>150000.0</td>\n",
              "      <td>8000000.0</td>\n",
              "      <td>6.857143e+05</td>\n",
              "      <td>22994.727933</td>\n",
              "      <td>50694.17720</td>\n",
              "      <td>80498.66890</td>\n",
              "      <td>80.909327</td>\n",
              "      <td>17.698915</td>\n",
              "      <td>29.438304</td>\n",
              "      <td>53.665779</td>\n",
              "    </tr>\n",
              "    <tr>\n",
              "      <th>8</th>\n",
              "      <td>75291.763790</td>\n",
              "      <td>196655.754313</td>\n",
              "      <td>50000.0</td>\n",
              "      <td>200000.0</td>\n",
              "      <td>8000000.0</td>\n",
              "      <td>9.142857e+05</td>\n",
              "      <td>21967.632568</td>\n",
              "      <td>48429.84276</td>\n",
              "      <td>128928.51166</td>\n",
              "      <td>98.327877</td>\n",
              "      <td>21.509223</td>\n",
              "      <td>35.610779</td>\n",
              "      <td>64.464256</td>\n",
              "    </tr>\n",
              "    <tr>\n",
              "      <th>9</th>\n",
              "      <td>84920.551343</td>\n",
              "      <td>281576.305656</td>\n",
              "      <td>75000.0</td>\n",
              "      <td>275000.0</td>\n",
              "      <td>8000000.0</td>\n",
              "      <td>1.142857e+06</td>\n",
              "      <td>24178.608274</td>\n",
              "      <td>53304.15980</td>\n",
              "      <td>182232.67146</td>\n",
              "      <td>102.391384</td>\n",
              "      <td>24.637927</td>\n",
              "      <td>40.583285</td>\n",
              "      <td>66.266426</td>\n",
              "    </tr>\n",
              "  </tbody>\n",
              "</table>\n",
              "</div>"
            ],
            "text/plain": [
              "   Real Production  Accumulated Real Production  ...  Usability    Waste %\n",
              "5      3143.998885                  3143.998885  ...   2.799170   6.508207\n",
              "6     39187.998451                 42331.997336  ...  15.779857  29.804492\n",
              "7     79031.993186                121363.990523  ...  29.438304  53.665779\n",
              "8     75291.763790                196655.754313  ...  35.610779  64.464256\n",
              "9     84920.551343                281576.305656  ...  40.583285  66.266426\n",
              "\n",
              "[5 rows x 13 columns]"
            ]
          },
          "metadata": {
            "tags": []
          },
          "execution_count": 10
        }
      ]
    },
    {
      "cell_type": "markdown",
      "metadata": {
        "id": "C06NjEEIa50d"
      },
      "source": [
        "## Data Analysis"
      ]
    },
    {
      "cell_type": "markdown",
      "metadata": {
        "id": "nvzm5QS2bBvc"
      },
      "source": [
        "### Compare real production vs scheduled production\n",
        "\n",
        "---\n",
        "\n"
      ]
    },
    {
      "cell_type": "code",
      "metadata": {
        "id": "xSRLvJfGbVVr"
      },
      "source": [
        "import matplotlib.pyplot as plt"
      ],
      "execution_count": 11,
      "outputs": []
    },
    {
      "cell_type": "code",
      "metadata": {
        "id": "V8fTzbJ_buVv",
        "colab": {
          "base_uri": "https://localhost:8080/",
          "height": 390
        },
        "outputId": "cdccbbc1-a3bb-42a0-9997-79eaa450a11d"
      },
      "source": [
        "fig, ax = plt.subplots()\n",
        "\n",
        "plt.title('Real Production VS Scheduled Production')\n",
        "\n",
        "ax.plot(df.index, df['Real Production'], label='Real Production')\n",
        "ax.fill_between(df.index,0,df['Real Production'])\n",
        "\n",
        "ax.plot(df.index, df['Scheduled Production'], label='Scheduled Production', linewidth=4)\n",
        "\n",
        "fig.set_figheight(6)\n",
        "fig.set_figwidth(12)\n",
        "\n",
        "leg= ax.legend()"
      ],
      "execution_count": 12,
      "outputs": [
        {
          "output_type": "display_data",
          "data": {
            "image/png": "[encoded data removed]",
            "text/plain": [
              "<Figure size 864x432 with 1 Axes>"
            ]
          },
          "metadata": {
            "tags": [],
            "needs_background": "light"
          }
        }
      ]
    },
    {
      "cell_type": "markdown",
      "metadata": {
        "id": "dIjhdkl5lwas"
      },
      "source": [
        "Watching the figure above, the real production is most under the scheduled production. The company is not being effective.\n",
        "\n",
        "Let´s analize why the company is not achieving the goals."
      ]
    },
    {
      "cell_type": "markdown",
      "metadata": {
        "id": "cmigSwR4wuBa"
      },
      "source": [
        "### Cumulative production tracking\n",
        "\n",
        "---\n",
        "\n"
      ]
    },
    {
      "cell_type": "code",
      "metadata": {
        "id": "Ca2yQTf-mTU9",
        "colab": {
          "base_uri": "https://localhost:8080/",
          "height": 390
        },
        "outputId": "077e7b8b-0ef9-4f4e-9646-5b15c35edde6"
      },
      "source": [
        "fig, ax = plt.subplots()\n",
        "\n",
        "plt.title('Cumulative production tracking')\n",
        "\n",
        "ax.plot(df.index, df['Accumulated Real Production'], label='Accumulated Real Production',marker='o')\n",
        "ax.plot(df.index, df['Accumulated Scheduled Production'], label='Accumulated Scheduled Production', marker='o')\n",
        "ax.plot(df.index, df['Weekly Capacity'], label='Accumulative Weekly Capacity', color='r', linewidth=4)\n",
        "\n",
        "fig.set_figheight(6)\n",
        "fig.set_figwidth(14)\n",
        "\n",
        "plt.xticks(np.arange(min(df.index), max(df.index)+1, 1.0))\n",
        "\n",
        "leg= ax.legend()"
      ],
      "execution_count": 13,
      "outputs": [
        {
          "output_type": "display_data",
          "data": {
            "image/png": "[encoded data removed]",
            "text/plain": [
              "<Figure size 1008x432 with 1 Axes>"
            ]
          },
          "metadata": {
            "tags": [],
            "needs_background": "light"
          }
        }
      ]
    },
    {
      "cell_type": "markdown",
      "metadata": {
        "id": "TUvPebHHcb-J"
      },
      "source": [
        "Along the time, the gap between real production and scheduled production is growing, being the maximum gaps the days 32 and 33."
      ]
    },
    {
      "cell_type": "markdown",
      "metadata": {
        "id": "_fAYPOYUyrvv"
      },
      "source": [
        "### Production and Waste\n",
        "\n",
        "---"
      ]
    },
    {
      "cell_type": "markdown",
      "metadata": {
        "id": "2qT_STn5zu7O"
      },
      "source": [
        "Let´s see the relation between real production and waste"
      ]
    },
    {
      "cell_type": "code",
      "metadata": {
        "colab": {
          "base_uri": "https://localhost:8080/",
          "height": 390
        },
        "id": "0SFlenkjzehC",
        "outputId": "8f7c959c-5c26-431a-ea7b-c1ae26f19d3a"
      },
      "source": [
        "fig, ax = plt.subplots()\n",
        "\n",
        "plt.title('Production and Waste')\n",
        "\n",
        "ax.plot(df.index, df['Accumulated Real Production'], label='Accumulated Real Production',linewidth=4)\n",
        "ax.plot(df.index, df['Accumulated Waste Lbs'], label='Accumulated Waste Lbs',linewidth=4)\n",
        "\n",
        "plt.xticks(np.arange(min(df.index), max(df.index)+1, 1.0))\n",
        "\n",
        "fig.set_figheight(6)\n",
        "fig.set_figwidth(14)\n",
        "\n",
        "leg = ax.legend()"
      ],
      "execution_count": 14,
      "outputs": [
        {
          "output_type": "display_data",
          "data": {
            "image/png": "[encoded data removed]",
            "text/plain": [
              "<Figure size 1008x432 with 1 Axes>"
            ]
          },
          "metadata": {
            "tags": [],
            "needs_background": "light"
          }
        }
      ]
    },
    {
      "cell_type": "markdown",
      "metadata": {
        "id": "WULuwFCHy7cq"
      },
      "source": [
        "According to the plot, the gap between real production and waste is not so much.\n",
        "\n",
        "The problem could be the waste."
      ]
    },
    {
      "cell_type": "markdown",
      "metadata": {
        "id": "2xL9JCHR0ObB"
      },
      "source": [
        "### Efficiency, Effectiveness and Usability\n",
        "\n",
        "---"
      ]
    },
    {
      "cell_type": "markdown",
      "metadata": {
        "id": "1NtMnYeB0bQ7"
      },
      "source": [
        "Analyzing these three indicators would show what's happening in production"
      ]
    },
    {
      "cell_type": "code",
      "metadata": {
        "colab": {
          "base_uri": "https://localhost:8080/",
          "height": 390
        },
        "id": "QA9DQTOF0So8",
        "outputId": "e92fe20a-47ee-406c-db50-3b33f4517e3f"
      },
      "source": [
        "fig, ax = plt.subplots()\n",
        "\n",
        "plt.title('Efficiency, Effectiveness and Usability ')\n",
        "\n",
        "ax.plot(df.index, df['Efficiency'], label='Efficiency',linewidth=4)\n",
        "ax.plot(df.index, df['Effectiveness'], label='Effectiveness',linewidth=4)\n",
        "ax.plot(df.index, df['Usability'], label='Usability', linewidth=4)\n",
        "\n",
        "fig.set_figheight(6)\n",
        "fig.set_figwidth(14)\n",
        "\n",
        "leg = ax.legend()"
      ],
      "execution_count": 15,
      "outputs": [
        {
          "output_type": "display_data",
          "data": {
            "image/png": "[encoded data removed]",
            "text/plain": [
              "<Figure size 1008x432 with 1 Axes>"
            ]
          },
          "metadata": {
            "tags": [],
            "needs_background": "light"
          }
        }
      ]
    },
    {
      "cell_type": "code",
      "metadata": {
        "colab": {
          "base_uri": "https://localhost:8080/"
        },
        "id": "lZT0q6qhmJ-F",
        "outputId": "eb43ddd2-c204-4a10-9ed3-c04a9aaa2973"
      },
      "source": [
        "efficiency = df['Efficiency'].iloc[-1]\n",
        "effectiveness = df['Effectiveness'].iloc[-1]\n",
        "usability = df['Usability'].iloc[-1]\n",
        "\n",
        "print(\"Efficiency %: {}\".format(efficiency))\n",
        "print(\"Effectiveness %: {}\".format(effectiveness))\n",
        "print(\"Usability %: {}\".format(usability))"
      ],
      "execution_count": 16,
      "outputs": [
        {
          "output_type": "stream",
          "text": [
            "Efficiency %: 66.0117073946986\n",
            "Effectiveness %: 86.04642312530501\n",
            "Usability %: 112.23708880271239\n"
          ],
          "name": "stdout"
        }
      ]
    },
    {
      "cell_type": "markdown",
      "metadata": {
        "id": "KbZrGpY_h3Sz"
      },
      "source": [
        "*   Efficiency measures how much of the total resources the company is using to \n",
        "manufacture products in good state.\n",
        "\n",
        "*   Effectiveness measures if the company is achieving the goals.\n",
        "\n",
        "*   Usability measures how much of the capacity the company is using to manufacture all the products, including which are in good and bad state.\n",
        "\n",
        "Knowing these concepts, let's analyze whan the numbers are telling.\n",
        "\n",
        "\n",
        "> The usability is more than 100%, so the company is producing more than the capacity. Nevertheless, the effectiveness is not 100%, it could be for 2 reasons: The goals of the company were not realistic about the capacity or there is a lot of waste in production.\n",
        "\n",
        "\n",
        "> Let´s see the efficiency value, it is 66%. So the real useful production using the max capacity is 66%. There are a lot of waste.\n",
        "\n",
        "Let`s see how much\n",
        "\n",
        "\n",
        "\n",
        "\n"
      ]
    },
    {
      "cell_type": "code",
      "metadata": {
        "colab": {
          "base_uri": "https://localhost:8080/"
        },
        "id": "Puynwz4ee2eg",
        "outputId": "19ebec42-57c4-4099-872b-abf97fb23d14"
      },
      "source": [
        "waste = df['Waste %'].iloc[-1]\n",
        "\n",
        "print(\"Total waste %: {}\".format(waste))"
      ],
      "execution_count": 17,
      "outputs": [
        {
          "output_type": "stream",
          "text": [
            "Total waste %: 60.25489848308329\n"
          ],
          "name": "stdout"
        }
      ]
    },
    {
      "cell_type": "markdown",
      "metadata": {
        "id": "VkQXXFZLgOLK"
      },
      "source": [
        "Waste % is the relation between accumulated waste and accumulated production.\n",
        "\n",
        "The total waste is 60%, this shows inefficiency in production.\n",
        "\n",
        "\n",
        "> There should be research about why the production has a lot of waste in order to improve efficiency.\n",
        "\n"
      ]
    }
  ]
}